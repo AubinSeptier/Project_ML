{
 "cells": [
  {
   "cell_type": "code",
   "execution_count": null,
   "metadata": {},
   "outputs": [],
   "source": [
    "import pandas as pd\n",
    "import matplotlib.pyplot as plt\n",
    "import seaborn as sns"
   ]
  },
  {
   "cell_type": "code",
   "execution_count": null,
   "metadata": {},
   "outputs": [],
   "source": [
    "data = pd.read_csv(\"CVD_cleaned.csv\")"
   ]
  },
  {
   "cell_type": "code",
   "execution_count": null,
   "metadata": {},
   "outputs": [],
   "source": [
    "def df_info(df):\n",
    "    df.shape\n",
    "    df.info()\n",
    "    print(df.head())"
   ]
  },
  {
   "cell_type": "code",
   "execution_count": null,
   "metadata": {},
   "outputs": [],
   "source": [
    "df_info(data)"
   ]
  },
  {
   "cell_type": "code",
   "execution_count": null,
   "metadata": {},
   "outputs": [],
   "source": [
    "def graph_plot(df, x, y=None, plot_type=\"auto\"):\n",
    "    x_type = df[x].dtype\n",
    "    if y:\n",
    "        y_type = df[y].dtype\n",
    "    else:\n",
    "        y_type = None\n",
    "        \n",
    "    if plot_type == \"auto\":\n",
    "        if y is None:\n",
    "            if pd.api.types.is_numeric_dtype(x_type):\n",
    "                plot_type = \"hist\"\n",
    "            else:\n",
    "                plot_type = \"count\"\n",
    "        elif pd.api.types.is_numeric_dtype(x_type) and pd.api.types.is_numeric_dtype(y_type):\n",
    "            plot_type = \"scatter\"\n",
    "        elif pd.api.types.is_categorical_dtype(x_type) or pd.api.types.is_object_dtype(x_type):\n",
    "            if pd.api.types.is_numeric_dtype(y_type):\n",
    "                plot_type = \"box\"\n",
    "            else:\n",
    "                plot_type = \"bar\"\n",
    "        \n",
    "    plt.figure(figsize=(10, 6))\n",
    "    \n",
    "    if plot_type == \"hist\":\n",
    "        sns.histplot(df[x], kde=True)\n",
    "        plt.title(f\"Distribution de {x}\")\n",
    "        plt.xlabel(x)\n",
    "        plt.ylabel(\"Fréquence\")\n",
    "        \n",
    "    elif plot_type == \"scatter\":\n",
    "        sns.scatterplot(data=df, x=x, y=y, alpha=0.6)\n",
    "        plt.title(f\"{x} vs {y}\")\n",
    "        plt.xlabel(x)\n",
    "        plt.ylabel(y)\n",
    "        \n",
    "    elif plot_type == \"count\":\n",
    "        sns.countplot(data=df, x=x)\n",
    "        plt.title(f\"Répartition de {x}\")\n",
    "        plt.xlabel(x)\n",
    "        plt.ylabel(\"Nombre\")\n",
    "        \n",
    "    elif plot_type == \"box\":\n",
    "        sns.boxplot(data=df, x=x, y=y)\n",
    "        plt.title(f\"{x} vs {y}\")\n",
    "        plt.xlabel(x)\n",
    "        plt.ylabel(y)\n",
    "        \n",
    "    elif plot_type == \"bar\":\n",
    "        contingency = df.groupby([x, y]).size().reset_index(name=\"count\")\n",
    "        sns.barplot(data=contingency, x=x, y=\"count\", hue=y)\n",
    "        plt.title(f\"{x} vs {y}\")\n",
    "        plt.xlabel(x)\n",
    "        plt.ylabel(\"Nombre\")\n",
    "        \n",
    "    else:\n",
    "        raise ValueError(\"plot_type doit être 'hist', 'scatter', 'count', 'box' ou 'bar'\")\n",
    "    \n",
    "    plt.tight_layout()\n",
    "    plt.show()"
   ]
  },
  {
   "cell_type": "code",
   "execution_count": null,
   "metadata": {},
   "outputs": [],
   "source": [
    "# General_Health,Checkup,Exercise,Heart_Disease,Skin_Cancer,Other_Cancer,Depression,Diabetes,Arthritis,Sex,Age_Category,Height_(cm),Weight_(kg),BMI,Smoking_History,Alcohol_Consumption,Fruit_Consumption,Green_Vegetables_Consumption,FriedPotato_Consumption\n",
    "graph_plot(data, \"General_Health\")\n",
    "graph_plot(data, \"Checkup\")\n",
    "graph_plot(data, \"Exercise\")\n",
    "graph_plot(data, \"Heart_Disease\")\n",
    "graph_plot(data, \"Skin_Cancer\")\n",
    "graph_plot(data, \"Other_Cancer\")\n",
    "graph_plot(data, \"Depression\")\n",
    "graph_plot(data, \"Diabetes\")\n",
    "graph_plot(data, \"Arthritis\")\n",
    "graph_plot(data, \"Sex\")\n",
    "graph_plot(data, \"Age_Category\")\n",
    "graph_plot(data, \"Height_(cm)\")\n",
    "graph_plot(data, \"Weight_(kg)\")\n",
    "graph_plot(data, \"BMI\")\n",
    "graph_plot(data, \"Smoking_History\")\n",
    "graph_plot(data, \"Alcohol_Consumption\")\n",
    "graph_plot(data, \"Fruit_Consumption\")\n",
    "graph_plot(data, \"Green_Vegetables_Consumption\")\n",
    "graph_plot(data, \"FriedPotato_Consumption\")"
   ]
  },
  {
   "cell_type": "code",
   "execution_count": null,
   "metadata": {},
   "outputs": [],
   "source": [
    "graph_plot(data, \"General_Health\", \"Heart_Disease\")\n",
    "graph_plot(data, \"Checkup\", \"Heart_Disease\")\n",
    "graph_plot(data, \"Exercise\", \"Heart_Disease\")\n",
    "graph_plot(data, \"Skin_Cancer\", \"Heart_Disease\")\n",
    "graph_plot(data, \"Other_Cancer\", \"Heart_Disease\")\n",
    "graph_plot(data, \"Depression\", \"Heart_Disease\")\n",
    "graph_plot(data, \"Diabetes\", \"Heart_Disease\")\n",
    "graph_plot(data, \"Arthritis\", \"Heart_Disease\")\n",
    "graph_plot(data, \"Age_Category\", \"Heart_Disease\")\n",
    "graph_plot(data, \"Heart_Disease\", \"BMI\")\n",
    "graph_plot(data, \"Heart_Disease\", \"Smoking_History\")\n",
    "graph_plot(data, \"Heart_Disease\", \"Alcohol_Consumption\")\n",
    "graph_plot(data, \"Heart_Disease\", \"Fruit_Consumption\")\n",
    "graph_plot(data, \"Heart_Disease\", \"Green_Vegetables_Consumption\")\n",
    "graph_plot(data, \"Heart_Disease\", \"FriedPotato_Consumption\")"
   ]
  }
 ],
 "metadata": {
  "language_info": {
   "name": "python"
  }
 },
 "nbformat": 4,
 "nbformat_minor": 2
}
